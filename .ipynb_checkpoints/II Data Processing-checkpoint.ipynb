{
 "cells": [
  {
   "cell_type": "code",
   "execution_count": 1,
   "metadata": {},
   "outputs": [],
   "source": [
    "import numpy as mp\n",
    "import pandas as pd"
   ]
  },
  {
   "cell_type": "markdown",
   "metadata": {},
   "source": [
    "# Overview"
   ]
  },
  {
   "cell_type": "code",
   "execution_count": 2,
   "metadata": {},
   "outputs": [
    {
     "name": "stderr",
     "output_type": "stream",
     "text": [
      "/Users/Lupine/opt/anaconda3/lib/python3.7/site-packages/IPython/core/interactiveshell.py:3072: DtypeWarning: Columns (1,11) have mixed types.Specify dtype option on import or set low_memory=False.\n",
      "  interactivity=interactivity, compiler=compiler, result=result)\n"
     ]
    }
   ],
   "source": [
    "cancerset = pd.read_csv('75bc.csv')"
   ]
  },
  {
   "cell_type": "code",
   "execution_count": 3,
   "metadata": {},
   "outputs": [],
   "source": [
    "cancerset.columns = ['DX_Death', 'N_Tumors', 'MO_Survival', 'DX_Year', 'AGE_Code', 'Female', 'ID_Patient', 'Race', 'Grade', 'Histology', 'Surgery', 'Nodes_Pos', 'Stage', 'T', 'N', 'M']"
   ]
  },
  {
   "cell_type": "code",
   "execution_count": 4,
   "metadata": {},
   "outputs": [
    {
     "data": {
      "text/plain": [
       "(1402959, 16)"
      ]
     },
     "execution_count": 4,
     "metadata": {},
     "output_type": "execute_result"
    }
   ],
   "source": [
    "cancerset.shape"
   ]
  },
  {
   "cell_type": "markdown",
   "metadata": {},
   "source": [
    "# Making Columns Numerical\n",
    "The Data Processing notebook is organized by the type of variable: binary, numerical, and ordinal.\n",
    "\n",
    "**Binary**- Diagnosis COD, Sex, Race\n",
    "\n",
    "**Integer** - Age, Months Survived, Number of Tumors, Nodes Pos\n",
    "\n",
    "**Ordinal**- Stage, N, M, T"
   ]
  },
  {
   "cell_type": "markdown",
   "metadata": {},
   "source": [
    "## Binary"
   ]
  },
  {
   "cell_type": "markdown",
   "metadata": {},
   "source": [
    "#### Death Classifications\n",
    "- Classification 'Dead (missing/unknown COD)' will be dropped as cause of death is not available\n",
    "- Dead (attributable to this cancer dx) will be set to 1\n",
    "- Other values will be set to 0"
   ]
  },
  {
   "cell_type": "code",
   "execution_count": 5,
   "metadata": {},
   "outputs": [],
   "source": [
    "def dx_cod(cancerset):\n",
    "    cancerset.drop(cancerset[cancerset['DX_Death'] == 'Dead (missing/unknown COD)'].index, inplace=True)\n",
    "    cancerset.loc[(cancerset['DX_Death'] == 'Dead (attributable to this cancer dx)'), 'DX_Death']= 1\n",
    "    cancerset.loc[(cancerset['DX_Death'] != 1), 'DX_Death']= 0\n",
    "    cancerset['DX_Death'] = cancerset['DX_Death'].astype(str).astype(int)\n",
    "    return cancerset"
   ]
  },
  {
   "cell_type": "code",
   "execution_count": 6,
   "metadata": {},
   "outputs": [],
   "source": [
    "cancerset = dx_cod(cancerset)"
   ]
  },
  {
   "cell_type": "code",
   "execution_count": 7,
   "metadata": {},
   "outputs": [
    {
     "data": {
      "text/plain": [
       "0    1171529\n",
       "1     222921\n",
       "Name: DX_Death, dtype: int64"
      ]
     },
     "execution_count": 7,
     "metadata": {},
     "output_type": "execute_result"
    }
   ],
   "source": [
    "cancerset['DX_Death'].value_counts()"
   ]
  },
  {
   "cell_type": "markdown",
   "metadata": {},
   "source": [
    "#### Binary Sex Classification\n",
    "- Female will be set to 1\n",
    "- Male will be set to 0"
   ]
  },
  {
   "cell_type": "code",
   "execution_count": 8,
   "metadata": {},
   "outputs": [],
   "source": [
    "def int_sex(cancerset):\n",
    "    cancerset.loc[(cancerset['Female'] == 'Female'), 'Female']= 1\n",
    "    cancerset.loc[(cancerset['Female'] == 'Male'), 'Female']= 0    \n",
    "    cancerset['Female'] = cancerset['Female'].astype(str).astype(int) \n",
    "    return cancerset"
   ]
  },
  {
   "cell_type": "code",
   "execution_count": 9,
   "metadata": {},
   "outputs": [],
   "source": [
    "cancerset = int_sex(cancerset)"
   ]
  },
  {
   "cell_type": "markdown",
   "metadata": {},
   "source": [
    "#### Surgery\n",
    "The vast majority of patients have undergone surgery for their condition ( > 90% ). A binary variable will be created to denote surgery. "
   ]
  },
  {
   "cell_type": "code",
   "execution_count": 10,
   "metadata": {},
   "outputs": [],
   "source": [
    "def bin_surgery(cancerset):\n",
    "    cancerset.loc[(cancerset['Surgery'] == 'Surgery performed'), 'Surgery']= 1\n",
    "    cancerset.loc[(cancerset['Surgery'] != 1), 'Surgery']= 0\n",
    "    cancerset['Surgery'] = cancerset['Surgery'].astype(str).astype(int) \n",
    "    return cancerset"
   ]
  },
  {
   "cell_type": "code",
   "execution_count": 11,
   "metadata": {},
   "outputs": [
    {
     "data": {
      "text/html": [
       "<div>\n",
       "<style scoped>\n",
       "    .dataframe tbody tr th:only-of-type {\n",
       "        vertical-align: middle;\n",
       "    }\n",
       "\n",
       "    .dataframe tbody tr th {\n",
       "        vertical-align: top;\n",
       "    }\n",
       "\n",
       "    .dataframe thead th {\n",
       "        text-align: right;\n",
       "    }\n",
       "</style>\n",
       "<table border=\"1\" class=\"dataframe\">\n",
       "  <thead>\n",
       "    <tr style=\"text-align: right;\">\n",
       "      <th></th>\n",
       "      <th>DX_Death</th>\n",
       "      <th>N_Tumors</th>\n",
       "      <th>MO_Survival</th>\n",
       "      <th>DX_Year</th>\n",
       "      <th>AGE_Code</th>\n",
       "      <th>Female</th>\n",
       "      <th>ID_Patient</th>\n",
       "      <th>Race</th>\n",
       "      <th>Grade</th>\n",
       "      <th>Histology</th>\n",
       "      <th>Surgery</th>\n",
       "      <th>Nodes_Pos</th>\n",
       "      <th>Stage</th>\n",
       "      <th>T</th>\n",
       "      <th>N</th>\n",
       "      <th>M</th>\n",
       "    </tr>\n",
       "  </thead>\n",
       "  <tbody>\n",
       "    <tr>\n",
       "      <th>0</th>\n",
       "      <td>1</td>\n",
       "      <td>1</td>\n",
       "      <td>0162</td>\n",
       "      <td>1975</td>\n",
       "      <td>60-64 years</td>\n",
       "      <td>1</td>\n",
       "      <td>13</td>\n",
       "      <td>White</td>\n",
       "      <td>Unknown</td>\n",
       "      <td>8500</td>\n",
       "      <td>1</td>\n",
       "      <td>Blank(s)</td>\n",
       "      <td>Blank(s)</td>\n",
       "      <td>Blank(s)</td>\n",
       "      <td>Blank(s)</td>\n",
       "      <td>Blank(s)</td>\n",
       "    </tr>\n",
       "    <tr>\n",
       "      <th>1</th>\n",
       "      <td>0</td>\n",
       "      <td>1</td>\n",
       "      <td>0028</td>\n",
       "      <td>1988</td>\n",
       "      <td>80-84 years</td>\n",
       "      <td>1</td>\n",
       "      <td>27</td>\n",
       "      <td>White</td>\n",
       "      <td>Unknown</td>\n",
       "      <td>8500</td>\n",
       "      <td>1</td>\n",
       "      <td>00</td>\n",
       "      <td>UNK Stage</td>\n",
       "      <td>TX Adjusted</td>\n",
       "      <td>NX Adjusted</td>\n",
       "      <td>M0</td>\n",
       "    </tr>\n",
       "    <tr>\n",
       "      <th>2</th>\n",
       "      <td>0</td>\n",
       "      <td>1</td>\n",
       "      <td>0084</td>\n",
       "      <td>1985</td>\n",
       "      <td>60-64 years</td>\n",
       "      <td>1</td>\n",
       "      <td>30</td>\n",
       "      <td>White</td>\n",
       "      <td>Unknown</td>\n",
       "      <td>8520</td>\n",
       "      <td>1</td>\n",
       "      <td>Blank(s)</td>\n",
       "      <td>Blank(s)</td>\n",
       "      <td>Blank(s)</td>\n",
       "      <td>Blank(s)</td>\n",
       "      <td>Blank(s)</td>\n",
       "    </tr>\n",
       "    <tr>\n",
       "      <th>3</th>\n",
       "      <td>0</td>\n",
       "      <td>3</td>\n",
       "      <td>0014</td>\n",
       "      <td>2003</td>\n",
       "      <td>75-79 years</td>\n",
       "      <td>1</td>\n",
       "      <td>67</td>\n",
       "      <td>White</td>\n",
       "      <td>Moderately differentiated; Grade II</td>\n",
       "      <td>8520</td>\n",
       "      <td>1</td>\n",
       "      <td>98</td>\n",
       "      <td>UNK Stage</td>\n",
       "      <td>TX Adjusted</td>\n",
       "      <td>NX Adjusted</td>\n",
       "      <td>M0</td>\n",
       "    </tr>\n",
       "    <tr>\n",
       "      <th>4</th>\n",
       "      <td>0</td>\n",
       "      <td>1</td>\n",
       "      <td>0192</td>\n",
       "      <td>1977</td>\n",
       "      <td>50-54 years</td>\n",
       "      <td>1</td>\n",
       "      <td>75</td>\n",
       "      <td>White</td>\n",
       "      <td>Unknown</td>\n",
       "      <td>8500</td>\n",
       "      <td>1</td>\n",
       "      <td>Blank(s)</td>\n",
       "      <td>Blank(s)</td>\n",
       "      <td>Blank(s)</td>\n",
       "      <td>Blank(s)</td>\n",
       "      <td>Blank(s)</td>\n",
       "    </tr>\n",
       "    <tr>\n",
       "      <th>...</th>\n",
       "      <td>...</td>\n",
       "      <td>...</td>\n",
       "      <td>...</td>\n",
       "      <td>...</td>\n",
       "      <td>...</td>\n",
       "      <td>...</td>\n",
       "      <td>...</td>\n",
       "      <td>...</td>\n",
       "      <td>...</td>\n",
       "      <td>...</td>\n",
       "      <td>...</td>\n",
       "      <td>...</td>\n",
       "      <td>...</td>\n",
       "      <td>...</td>\n",
       "      <td>...</td>\n",
       "      <td>...</td>\n",
       "    </tr>\n",
       "    <tr>\n",
       "      <th>1402954</th>\n",
       "      <td>0</td>\n",
       "      <td>1</td>\n",
       "      <td>Unknown</td>\n",
       "      <td>2016</td>\n",
       "      <td>75-79 years</td>\n",
       "      <td>1</td>\n",
       "      <td>77803842</td>\n",
       "      <td>White</td>\n",
       "      <td>Unknown</td>\n",
       "      <td>8000</td>\n",
       "      <td>0</td>\n",
       "      <td>99</td>\n",
       "      <td>Blank(s)</td>\n",
       "      <td>Blank(s)</td>\n",
       "      <td>Blank(s)</td>\n",
       "      <td>Blank(s)</td>\n",
       "    </tr>\n",
       "    <tr>\n",
       "      <th>1402955</th>\n",
       "      <td>0</td>\n",
       "      <td>1</td>\n",
       "      <td>0000</td>\n",
       "      <td>2016</td>\n",
       "      <td>80-84 years</td>\n",
       "      <td>1</td>\n",
       "      <td>77803868</td>\n",
       "      <td>Unknown</td>\n",
       "      <td>Well differentiated; Grade I</td>\n",
       "      <td>8500</td>\n",
       "      <td>1</td>\n",
       "      <td>98</td>\n",
       "      <td>Blank(s)</td>\n",
       "      <td>Blank(s)</td>\n",
       "      <td>Blank(s)</td>\n",
       "      <td>Blank(s)</td>\n",
       "    </tr>\n",
       "    <tr>\n",
       "      <th>1402956</th>\n",
       "      <td>1</td>\n",
       "      <td>1</td>\n",
       "      <td>Unknown</td>\n",
       "      <td>2016</td>\n",
       "      <td>85+ years</td>\n",
       "      <td>1</td>\n",
       "      <td>77803956</td>\n",
       "      <td>White</td>\n",
       "      <td>Unknown</td>\n",
       "      <td>8000</td>\n",
       "      <td>0</td>\n",
       "      <td>99</td>\n",
       "      <td>Blank(s)</td>\n",
       "      <td>Blank(s)</td>\n",
       "      <td>Blank(s)</td>\n",
       "      <td>Blank(s)</td>\n",
       "    </tr>\n",
       "    <tr>\n",
       "      <th>1402957</th>\n",
       "      <td>0</td>\n",
       "      <td>1</td>\n",
       "      <td>0029</td>\n",
       "      <td>2014</td>\n",
       "      <td>60-64 years</td>\n",
       "      <td>1</td>\n",
       "      <td>77804049</td>\n",
       "      <td>White</td>\n",
       "      <td>Moderately differentiated; Grade II</td>\n",
       "      <td>8500</td>\n",
       "      <td>1</td>\n",
       "      <td>0</td>\n",
       "      <td>I</td>\n",
       "      <td>T1c</td>\n",
       "      <td>N0</td>\n",
       "      <td>M0</td>\n",
       "    </tr>\n",
       "    <tr>\n",
       "      <th>1402958</th>\n",
       "      <td>0</td>\n",
       "      <td>1</td>\n",
       "      <td>0000</td>\n",
       "      <td>2016</td>\n",
       "      <td>55-59 years</td>\n",
       "      <td>1</td>\n",
       "      <td>77804110</td>\n",
       "      <td>White</td>\n",
       "      <td>Moderately differentiated; Grade II</td>\n",
       "      <td>8522</td>\n",
       "      <td>0</td>\n",
       "      <td>98</td>\n",
       "      <td>Blank(s)</td>\n",
       "      <td>Blank(s)</td>\n",
       "      <td>Blank(s)</td>\n",
       "      <td>Blank(s)</td>\n",
       "    </tr>\n",
       "  </tbody>\n",
       "</table>\n",
       "<p>1394450 rows × 16 columns</p>\n",
       "</div>"
      ],
      "text/plain": [
       "         DX_Death N_Tumors MO_Survival  DX_Year     AGE_Code  Female  \\\n",
       "0               1        1        0162     1975  60-64 years       1   \n",
       "1               0        1        0028     1988  80-84 years       1   \n",
       "2               0        1        0084     1985  60-64 years       1   \n",
       "3               0        3        0014     2003  75-79 years       1   \n",
       "4               0        1        0192     1977  50-54 years       1   \n",
       "...           ...      ...         ...      ...          ...     ...   \n",
       "1402954         0        1     Unknown     2016  75-79 years       1   \n",
       "1402955         0        1        0000     2016  80-84 years       1   \n",
       "1402956         1        1     Unknown     2016    85+ years       1   \n",
       "1402957         0        1        0029     2014  60-64 years       1   \n",
       "1402958         0        1        0000     2016  55-59 years       1   \n",
       "\n",
       "         ID_Patient     Race                                Grade  Histology  \\\n",
       "0                13    White                              Unknown       8500   \n",
       "1                27    White                              Unknown       8500   \n",
       "2                30    White                              Unknown       8520   \n",
       "3                67    White  Moderately differentiated; Grade II       8520   \n",
       "4                75    White                              Unknown       8500   \n",
       "...             ...      ...                                  ...        ...   \n",
       "1402954    77803842    White                              Unknown       8000   \n",
       "1402955    77803868  Unknown         Well differentiated; Grade I       8500   \n",
       "1402956    77803956    White                              Unknown       8000   \n",
       "1402957    77804049    White  Moderately differentiated; Grade II       8500   \n",
       "1402958    77804110    White  Moderately differentiated; Grade II       8522   \n",
       "\n",
       "         Surgery Nodes_Pos      Stage            T            N         M  \n",
       "0              1  Blank(s)   Blank(s)     Blank(s)     Blank(s)  Blank(s)  \n",
       "1              1        00  UNK Stage  TX Adjusted  NX Adjusted        M0  \n",
       "2              1  Blank(s)   Blank(s)     Blank(s)     Blank(s)  Blank(s)  \n",
       "3              1        98  UNK Stage  TX Adjusted  NX Adjusted        M0  \n",
       "4              1  Blank(s)   Blank(s)     Blank(s)     Blank(s)  Blank(s)  \n",
       "...          ...       ...        ...          ...          ...       ...  \n",
       "1402954        0        99   Blank(s)     Blank(s)     Blank(s)  Blank(s)  \n",
       "1402955        1        98   Blank(s)     Blank(s)     Blank(s)  Blank(s)  \n",
       "1402956        0        99   Blank(s)     Blank(s)     Blank(s)  Blank(s)  \n",
       "1402957        1         0          I          T1c           N0        M0  \n",
       "1402958        0        98   Blank(s)     Blank(s)     Blank(s)  Blank(s)  \n",
       "\n",
       "[1394450 rows x 16 columns]"
      ]
     },
     "execution_count": 11,
     "metadata": {},
     "output_type": "execute_result"
    }
   ],
   "source": [
    "bin_surgery(cancerset)"
   ]
  },
  {
   "cell_type": "code",
   "execution_count": 12,
   "metadata": {},
   "outputs": [
    {
     "data": {
      "text/plain": [
       "1    1275571\n",
       "0     118879\n",
       "Name: Surgery, dtype: int64"
      ]
     },
     "execution_count": 12,
     "metadata": {},
     "output_type": "execute_result"
    }
   ],
   "source": [
    "cancerset['Surgery'].value_counts()"
   ]
  },
  {
   "cell_type": "markdown",
   "metadata": {},
   "source": [
    "#### Hashable Race Column\n",
    "- Values White, Black, Other, and NaN will become dummy variables\n",
    "    - Column Other will be shortened"
   ]
  },
  {
   "cell_type": "code",
   "execution_count": 16,
   "metadata": {},
   "outputs": [],
   "source": [
    "def int_race(cancerset):\n",
    "    cancerset['Race'] = cancerset['Race'].str[:5]\n",
    "    cancerset.loc[(cancerset['Race'] == 'Unkno'), 'Race']= 'Other'\n",
    "    return cancerset"
   ]
  },
  {
   "cell_type": "code",
   "execution_count": 17,
   "metadata": {},
   "outputs": [],
   "source": [
    "cancerset = int_race(cancerset)"
   ]
  },
  {
   "cell_type": "code",
   "execution_count": 18,
   "metadata": {},
   "outputs": [],
   "source": [
    "# cancerset = pd.get_dummies(cancerset, columns=['Race'])"
   ]
  },
  {
   "cell_type": "code",
   "execution_count": 19,
   "metadata": {},
   "outputs": [],
   "source": [
    "# h = FeatureHasher(n_features=3)\n",
    "# f = h.transform(cancerset['Race',])"
   ]
  },
  {
   "cell_type": "code",
   "execution_count": 20,
   "metadata": {},
   "outputs": [],
   "source": [
    "# for c in cancerset.columns:\n",
    "#     print(\"---- %s ---\" % c)\n",
    "#     print(cancerset[c].value_counts())"
   ]
  },
  {
   "cell_type": "markdown",
   "metadata": {},
   "source": [
    "## Integer"
   ]
  },
  {
   "cell_type": "markdown",
   "metadata": {},
   "source": [
    "#### Age\n",
    "Note that this code held ages within 5 year brackets, 1-5, 5-10, and so on. Just the initial age will be kept."
   ]
  },
  {
   "cell_type": "code",
   "execution_count": 13,
   "metadata": {},
   "outputs": [],
   "source": [
    "cancerset['AGE_Code'] = cancerset['AGE_Code'].str[:2].astype(str).astype(int)"
   ]
  },
  {
   "cell_type": "markdown",
   "metadata": {},
   "source": [
    "#### Months Survival\n",
    "Cancerset Months Survival has 7084 rows missing."
   ]
  },
  {
   "cell_type": "code",
   "execution_count": 14,
   "metadata": {},
   "outputs": [],
   "source": [
    "cancerset.drop(cancerset[cancerset.MO_Survival == 'Unknown'].index, inplace=True)\n",
    "cancerset['MO_Survival'] = cancerset['MO_Survival'].astype(str).astype(int)"
   ]
  },
  {
   "cell_type": "markdown",
   "metadata": {},
   "source": [
    "#### Number Tumors\n",
    "27 tumors are listed as an unknown value, these will be dropped instead of interpolated."
   ]
  },
  {
   "cell_type": "code",
   "execution_count": 15,
   "metadata": {},
   "outputs": [],
   "source": [
    "cancerset.drop(cancerset[cancerset.N_Tumors == 'Unknown'].index, inplace=True)\n",
    "cancerset['N_Tumors'] = cancerset['N_Tumors'].astype(str).astype(int)"
   ]
  },
  {
   "cell_type": "markdown",
   "metadata": {},
   "source": [
    "#### Nodes Positive\n",
    "Nodes that were found to contain metastases.\n",
    "\n",
    "- 0-89 are real numbers of nodes positive\n",
    "- 90 being 90 or more\n",
    "- 99, 'Blank(s)', 98  both represent an unknown value of positive nodes\n",
    "- 95 and 97 indicate that positive nodes are confirmed but number non specified\n",
    "Code 98 stands for no nodes examined\n",
    "\n"
   ]
  },
  {
   "cell_type": "code",
   "execution_count": 16,
   "metadata": {},
   "outputs": [],
   "source": [
    "cancerset.loc[(cancerset['Nodes_Pos'] == 'Blank(s)'), 'Nodes_Pos']= 99\n",
    "cancerset.loc[(cancerset['Nodes_Pos'] == 98), 'Nodes_Pos']= 99"
   ]
  },
  {
   "cell_type": "code",
   "execution_count": 17,
   "metadata": {},
   "outputs": [
    {
     "data": {
      "text/plain": [
       "(251822, 16)"
      ]
     },
     "execution_count": 17,
     "metadata": {},
     "output_type": "execute_result"
    }
   ],
   "source": [
    "cancerset[cancerset['Nodes_Pos']== 99].shape"
   ]
  },
  {
   "cell_type": "code",
   "execution_count": 18,
   "metadata": {},
   "outputs": [],
   "source": [
    "cancerset.loc[(cancerset['Nodes_Pos'] == 97), 'Nodes_Pos']= 95"
   ]
  },
  {
   "cell_type": "code",
   "execution_count": 19,
   "metadata": {},
   "outputs": [
    {
     "data": {
      "text/plain": [
       "(10016, 16)"
      ]
     },
     "execution_count": 19,
     "metadata": {},
     "output_type": "execute_result"
    }
   ],
   "source": [
    "cancerset[cancerset['Nodes_Pos']== 95].shape"
   ]
  },
  {
   "cell_type": "code",
   "execution_count": 93,
   "metadata": {},
   "outputs": [
    {
     "data": {
      "text/plain": [
       "(372738, 16)"
      ]
     },
     "execution_count": 93,
     "metadata": {},
     "output_type": "execute_result"
    }
   ],
   "source": [
    "cancerset[cancerset['Nodes_Pos']== 0].shape"
   ]
  },
  {
   "cell_type": "code",
   "execution_count": 20,
   "metadata": {},
   "outputs": [
    {
     "data": {
      "text/plain": [
       "0     372738\n",
       "00    315610\n",
       "99    251822\n",
       "98     92394\n",
       "1      76035\n",
       "       ...  \n",
       "65         1\n",
       "69         1\n",
       "70         1\n",
       "71         1\n",
       "88         1\n",
       "Name: Nodes_Pos, Length: 146, dtype: int64"
      ]
     },
     "execution_count": 20,
     "metadata": {},
     "output_type": "execute_result"
    }
   ],
   "source": [
    "cancerset['Nodes_Pos'].value_counts()"
   ]
  },
  {
   "cell_type": "markdown",
   "metadata": {},
   "source": [
    "## Ordinal Variables"
   ]
  },
  {
   "cell_type": "markdown",
   "metadata": {},
   "source": [
    "#### AJCC Cancer Stage\n",
    "Blank(s) & UNKNOWN classifications will be considered as same class. When creating binary variables, No unknown column will be created to reduce feature correlation. "
   ]
  },
  {
   "cell_type": "code",
   "execution_count": 21,
   "metadata": {},
   "outputs": [
    {
     "data": {
      "text/plain": [
       "I            525854\n",
       "IIA          257684\n",
       "Blank(s)     209906\n",
       "IIB          109330\n",
       "UNK Stage     85686\n",
       "IIIA          72386\n",
       "IV            55980\n",
       "IIIC          37264\n",
       "IIIB          24689\n",
       "IIINOS         5025\n",
       "0              1780\n",
       "Name: Stage, dtype: int64"
      ]
     },
     "execution_count": 21,
     "metadata": {},
     "output_type": "execute_result"
    }
   ],
   "source": [
    "cancerset['Stage'].value_counts()"
   ]
  },
  {
   "cell_type": "code",
   "execution_count": 22,
   "metadata": {},
   "outputs": [],
   "source": [
    "cancerset.loc[(cancerset['Stage'] == 'Blank(s)'), 'Stage']= 'UNK Stage'"
   ]
  },
  {
   "cell_type": "code",
   "execution_count": 23,
   "metadata": {},
   "outputs": [],
   "source": [
    "cancerset['Stage'] = cancerset['Stage'].str[:4]\n",
    "# cancerset.loc[(cancerset['Stage'] == 'UNK '), 'Stage']= 'UNK'"
   ]
  },
  {
   "cell_type": "code",
   "execution_count": 28,
   "metadata": {},
   "outputs": [],
   "source": [
    "\n",
    "\n",
    "\n"
   ]
  },
  {
   "cell_type": "code",
   "execution_count": 30,
   "metadata": {},
   "outputs": [],
   "source": [
    "def Stg1(row):\n",
    "    if row['Stage'] == 'I':\n",
    "        return 1\n",
    "    if row['Stage'] == 'IIA':\n",
    "        return 1\n",
    "    if row['Stage'] == 'IIB':\n",
    "        return 1\n",
    "    if row['Stage'] == 'IIIA':\n",
    "        return 1\n",
    "    if row['Stage'] == 'IIIB':\n",
    "        return 1 \n",
    "    if row['Stage'] == 'IIIC':\n",
    "        return 1\n",
    "    if row['Stage'] == 'IIIN':\n",
    "        return 1\n",
    "    else:\n",
    "        return 0\n",
    "\n",
    "def Stg2A(row):\n",
    "    if row['Stage'] == 'IIA':\n",
    "        return 1\n",
    "    if row['Stage'] == 'IIB':\n",
    "        return 1\n",
    "    if row['Stage'] == 'IIIA':\n",
    "        return 1\n",
    "    if row['Stage'] == 'IIIB':\n",
    "        return 1 \n",
    "    if row['Stage'] == 'IIIC':\n",
    "        return 1\n",
    "    if row['Stage'] == 'IIIN':\n",
    "        return 1\n",
    "    else:\n",
    "        return 0\n",
    "\n",
    "def Stg2B(row):\n",
    "    if row['Stage'] == 'IIB':\n",
    "        return 1\n",
    "    if row['Stage'] == 'IIIA':\n",
    "        return 1\n",
    "    if row['Stage'] == 'IIIB':\n",
    "        return 1 \n",
    "    if row['Stage'] == 'IIIC':\n",
    "        return 1\n",
    "    if row['Stage'] == 'IIIN':\n",
    "        return 1\n",
    "    else:\n",
    "        return 0\n",
    "\n",
    "def Stg3A(row):\n",
    "    if row['Stage'] == 'IIIA':\n",
    "        return 1\n",
    "    if row['Stage'] == 'IIIB':\n",
    "        return 1 \n",
    "    if row['Stage'] == 'IIIC':\n",
    "        return 1\n",
    "    if row['Stage'] == 'IIIN':\n",
    "        return 1\n",
    "    else:\n",
    "        return 0\n",
    "    \n",
    "def Stg3B(row):\n",
    "    if row['Stage'] == 'IIIB':\n",
    "        return 1 \n",
    "    if row['Stage'] == 'IIIC':\n",
    "        return 1\n",
    "    if row['Stage'] == 'IIIN':\n",
    "        return 1\n",
    "    else:\n",
    "        return 0\n",
    "    \n",
    "def Stg3C(row):\n",
    "    if row['Stage'] == 'IIIC':\n",
    "        return 1\n",
    "    if row['Stage'] == 'IIIN':\n",
    "        return 1\n",
    "    else:\n",
    "        return 0\n",
    "    \n",
    "def Stg3N(row):\n",
    "    if row['Stage'] == 'IIIN':\n",
    "        return 1\n",
    "    else:\n",
    "        return 0\n",
    "    \n",
    "def Stg0(row):\n",
    "    if row['Stage'] == '0':\n",
    "        return 1\n",
    "    else:\n",
    "        return 0"
   ]
  },
  {
   "cell_type": "code",
   "execution_count": 31,
   "metadata": {},
   "outputs": [],
   "source": [
    "cancerset['S1'] = cancerset.apply (lambda row: Stg1(row), axis =1)\n",
    "cancerset['S2A'] = cancerset.apply (lambda row: Stg2A(row), axis =1)\n",
    "cancerset['S2B'] = cancerset.apply (lambda row: Stg2B(row), axis =1)\n",
    "cancerset['S3A'] = cancerset.apply (lambda row: Stg3A(row), axis =1)\n",
    "cancerset['S3B'] = cancerset.apply (lambda row: Stg3B(row), axis =1)\n",
    "cancerset['S3C'] = cancerset.apply (lambda row: Stg3C(row), axis =1)\n",
    "cancerset['S3N'] = cancerset.apply (lambda row: Stg3N(row), axis =1)\n",
    "cancerset['S0'] = cancerset.apply (lambda row: Stg0(row), axis =1)"
   ]
  },
  {
   "cell_type": "markdown",
   "metadata": {},
   "source": [
    "#### Nodes Impacted\n",
    "N represents presence or absence of involved lymph nodes (binary or count)\n",
    "- Blank(s) willbe converted to NX\n",
    "- As they are ordinal, subsequent confirmed stages will also be marked positive for previous stages."
   ]
  },
  {
   "cell_type": "code",
   "execution_count": 27,
   "metadata": {},
   "outputs": [
    {
     "data": {
      "text/plain": [
       "N0    720451\n",
       "NX    313132\n",
       "N1    234525\n",
       "N2     68526\n",
       "N3     48950\n",
       "Name: N, dtype: int64"
      ]
     },
     "execution_count": 27,
     "metadata": {},
     "output_type": "execute_result"
    }
   ],
   "source": [
    "cancerset['N'].value_counts()"
   ]
  },
  {
   "cell_type": "code",
   "execution_count": 25,
   "metadata": {},
   "outputs": [],
   "source": [
    "def n_cat(cancerset):\n",
    "    cancerset.loc[(cancerset['N'] == 'Blank(s)'), 'N']= 'NX Adjusted'\n",
    "    cancerset['N'] = cancerset['N'].str[:2]\n",
    "    return cancerset"
   ]
  },
  {
   "cell_type": "code",
   "execution_count": 26,
   "metadata": {},
   "outputs": [],
   "source": [
    "cancerset = n_cat(cancerset)"
   ]
  },
  {
   "cell_type": "code",
   "execution_count": 28,
   "metadata": {},
   "outputs": [],
   "source": [
    "import pandas as pd\n",
    "df = pd.DataFrame({'N': ['N0', 'N1', 'NX', 'N2', 'N3']}) \n",
    "\n",
    "df = pd.concat([df, pd.get_dummies(df['N']).drop(columns='N0')], axis=1)\n",
    "\n",
    "hierarchy = ['N3', 'N2', 'N1']\n",
    "for i in range(len(hierarchy)-1):\n",
    "    df[hierarchy[i+1]] += df[hierarchy[i]]"
   ]
  },
  {
   "cell_type": "code",
   "execution_count": 29,
   "metadata": {},
   "outputs": [
    {
     "data": {
      "text/html": [
       "<div>\n",
       "<style scoped>\n",
       "    .dataframe tbody tr th:only-of-type {\n",
       "        vertical-align: middle;\n",
       "    }\n",
       "\n",
       "    .dataframe tbody tr th {\n",
       "        vertical-align: top;\n",
       "    }\n",
       "\n",
       "    .dataframe thead th {\n",
       "        text-align: right;\n",
       "    }\n",
       "</style>\n",
       "<table border=\"1\" class=\"dataframe\">\n",
       "  <thead>\n",
       "    <tr style=\"text-align: right;\">\n",
       "      <th></th>\n",
       "      <th>N</th>\n",
       "      <th>N1</th>\n",
       "      <th>N2</th>\n",
       "      <th>N3</th>\n",
       "      <th>NX</th>\n",
       "    </tr>\n",
       "  </thead>\n",
       "  <tbody>\n",
       "    <tr>\n",
       "      <th>0</th>\n",
       "      <td>N0</td>\n",
       "      <td>0</td>\n",
       "      <td>0</td>\n",
       "      <td>0</td>\n",
       "      <td>0</td>\n",
       "    </tr>\n",
       "    <tr>\n",
       "      <th>1</th>\n",
       "      <td>N1</td>\n",
       "      <td>1</td>\n",
       "      <td>0</td>\n",
       "      <td>0</td>\n",
       "      <td>0</td>\n",
       "    </tr>\n",
       "    <tr>\n",
       "      <th>2</th>\n",
       "      <td>NX</td>\n",
       "      <td>0</td>\n",
       "      <td>0</td>\n",
       "      <td>0</td>\n",
       "      <td>1</td>\n",
       "    </tr>\n",
       "    <tr>\n",
       "      <th>3</th>\n",
       "      <td>N2</td>\n",
       "      <td>1</td>\n",
       "      <td>1</td>\n",
       "      <td>0</td>\n",
       "      <td>0</td>\n",
       "    </tr>\n",
       "    <tr>\n",
       "      <th>4</th>\n",
       "      <td>N3</td>\n",
       "      <td>1</td>\n",
       "      <td>1</td>\n",
       "      <td>1</td>\n",
       "      <td>0</td>\n",
       "    </tr>\n",
       "  </tbody>\n",
       "</table>\n",
       "</div>"
      ],
      "text/plain": [
       "    N  N1  N2  N3  NX\n",
       "0  N0   0   0   0   0\n",
       "1  N1   1   0   0   0\n",
       "2  NX   0   0   0   1\n",
       "3  N2   1   1   0   0\n",
       "4  N3   1   1   1   0"
      ]
     },
     "execution_count": 29,
     "metadata": {},
     "output_type": "execute_result"
    }
   ],
   "source": [
    "df"
   ]
  },
  {
   "cell_type": "code",
   "execution_count": 32,
   "metadata": {},
   "outputs": [],
   "source": [
    "cancerset = pd.concat([cancerset, pd.get_dummies(df['N']).drop(columns='N0')], axis=1)"
   ]
  },
  {
   "cell_type": "code",
   "execution_count": 33,
   "metadata": {},
   "outputs": [],
   "source": [
    "hierarchy = ['N3', 'N2', 'N1']"
   ]
  },
  {
   "cell_type": "code",
   "execution_count": 34,
   "metadata": {},
   "outputs": [
    {
     "ename": "ValueError",
     "evalue": "cannot reindex from a duplicate axis",
     "output_type": "error",
     "traceback": [
      "\u001b[0;31m---------------------------------------------------------------------------\u001b[0m",
      "\u001b[0;31mValueError\u001b[0m                                Traceback (most recent call last)",
      "\u001b[0;32m<ipython-input-34-b00c9f8507b0>\u001b[0m in \u001b[0;36m<module>\u001b[0;34m\u001b[0m\n\u001b[1;32m      1\u001b[0m \u001b[0;32mfor\u001b[0m \u001b[0mi\u001b[0m \u001b[0;32min\u001b[0m \u001b[0mrange\u001b[0m\u001b[0;34m(\u001b[0m\u001b[0mlen\u001b[0m\u001b[0;34m(\u001b[0m\u001b[0mhierarchy\u001b[0m\u001b[0;34m)\u001b[0m\u001b[0;34m-\u001b[0m\u001b[0;36m1\u001b[0m\u001b[0;34m)\u001b[0m\u001b[0;34m:\u001b[0m\u001b[0;34m\u001b[0m\u001b[0;34m\u001b[0m\u001b[0m\n\u001b[0;32m----> 2\u001b[0;31m     \u001b[0mcancerset\u001b[0m\u001b[0;34m[\u001b[0m\u001b[0mhierarchy\u001b[0m\u001b[0;34m[\u001b[0m\u001b[0mi\u001b[0m\u001b[0;34m+\u001b[0m\u001b[0;36m1\u001b[0m\u001b[0;34m]\u001b[0m\u001b[0;34m]\u001b[0m \u001b[0;34m+=\u001b[0m \u001b[0mcancerset\u001b[0m\u001b[0;34m[\u001b[0m\u001b[0mhierarchy\u001b[0m\u001b[0;34m[\u001b[0m\u001b[0mi\u001b[0m\u001b[0;34m]\u001b[0m\u001b[0;34m]\u001b[0m\u001b[0;34m\u001b[0m\u001b[0;34m\u001b[0m\u001b[0m\n\u001b[0m",
      "\u001b[0;32m~/opt/anaconda3/lib/python3.7/site-packages/pandas/core/ops/methods.py\u001b[0m in \u001b[0;36mf\u001b[0;34m(self, other)\u001b[0m\n\u001b[1;32m     98\u001b[0m             \u001b[0;31m# we are updating inplace so we want to ignore is_copy\u001b[0m\u001b[0;34m\u001b[0m\u001b[0;34m\u001b[0m\u001b[0;34m\u001b[0m\u001b[0m\n\u001b[1;32m     99\u001b[0m             self._update_inplace(\n\u001b[0;32m--> 100\u001b[0;31m                 \u001b[0mresult\u001b[0m\u001b[0;34m.\u001b[0m\u001b[0mreindex_like\u001b[0m\u001b[0;34m(\u001b[0m\u001b[0mself\u001b[0m\u001b[0;34m,\u001b[0m \u001b[0mcopy\u001b[0m\u001b[0;34m=\u001b[0m\u001b[0;32mFalse\u001b[0m\u001b[0;34m)\u001b[0m\u001b[0;34m.\u001b[0m\u001b[0m_data\u001b[0m\u001b[0;34m,\u001b[0m \u001b[0mverify_is_copy\u001b[0m\u001b[0;34m=\u001b[0m\u001b[0;32mFalse\u001b[0m\u001b[0;34m\u001b[0m\u001b[0;34m\u001b[0m\u001b[0m\n\u001b[0m\u001b[1;32m    101\u001b[0m             )\n\u001b[1;32m    102\u001b[0m \u001b[0;34m\u001b[0m\u001b[0m\n",
      "\u001b[0;32m~/opt/anaconda3/lib/python3.7/site-packages/pandas/core/generic.py\u001b[0m in \u001b[0;36mreindex_like\u001b[0;34m(self, other, method, copy, limit, tolerance)\u001b[0m\n\u001b[1;32m   3903\u001b[0m         )\n\u001b[1;32m   3904\u001b[0m \u001b[0;34m\u001b[0m\u001b[0m\n\u001b[0;32m-> 3905\u001b[0;31m         \u001b[0;32mreturn\u001b[0m \u001b[0mself\u001b[0m\u001b[0;34m.\u001b[0m\u001b[0mreindex\u001b[0m\u001b[0;34m(\u001b[0m\u001b[0;34m**\u001b[0m\u001b[0md\u001b[0m\u001b[0;34m)\u001b[0m\u001b[0;34m\u001b[0m\u001b[0;34m\u001b[0m\u001b[0m\n\u001b[0m\u001b[1;32m   3906\u001b[0m \u001b[0;34m\u001b[0m\u001b[0m\n\u001b[1;32m   3907\u001b[0m     def drop(\n",
      "\u001b[0;32m~/opt/anaconda3/lib/python3.7/site-packages/pandas/util/_decorators.py\u001b[0m in \u001b[0;36mwrapper\u001b[0;34m(*args, **kwargs)\u001b[0m\n\u001b[1;32m    225\u001b[0m         \u001b[0;34m@\u001b[0m\u001b[0mwraps\u001b[0m\u001b[0;34m(\u001b[0m\u001b[0mfunc\u001b[0m\u001b[0;34m)\u001b[0m\u001b[0;34m\u001b[0m\u001b[0;34m\u001b[0m\u001b[0m\n\u001b[1;32m    226\u001b[0m         \u001b[0;32mdef\u001b[0m \u001b[0mwrapper\u001b[0m\u001b[0;34m(\u001b[0m\u001b[0;34m*\u001b[0m\u001b[0margs\u001b[0m\u001b[0;34m,\u001b[0m \u001b[0;34m**\u001b[0m\u001b[0mkwargs\u001b[0m\u001b[0;34m)\u001b[0m \u001b[0;34m->\u001b[0m \u001b[0mCallable\u001b[0m\u001b[0;34m[\u001b[0m\u001b[0;34m...\u001b[0m\u001b[0;34m,\u001b[0m \u001b[0mAny\u001b[0m\u001b[0;34m]\u001b[0m\u001b[0;34m:\u001b[0m\u001b[0;34m\u001b[0m\u001b[0;34m\u001b[0m\u001b[0m\n\u001b[0;32m--> 227\u001b[0;31m             \u001b[0;32mreturn\u001b[0m \u001b[0mfunc\u001b[0m\u001b[0;34m(\u001b[0m\u001b[0;34m*\u001b[0m\u001b[0margs\u001b[0m\u001b[0;34m,\u001b[0m \u001b[0;34m**\u001b[0m\u001b[0mkwargs\u001b[0m\u001b[0;34m)\u001b[0m\u001b[0;34m\u001b[0m\u001b[0;34m\u001b[0m\u001b[0m\n\u001b[0m\u001b[1;32m    228\u001b[0m \u001b[0;34m\u001b[0m\u001b[0m\n\u001b[1;32m    229\u001b[0m         \u001b[0mkind\u001b[0m \u001b[0;34m=\u001b[0m \u001b[0minspect\u001b[0m\u001b[0;34m.\u001b[0m\u001b[0mParameter\u001b[0m\u001b[0;34m.\u001b[0m\u001b[0mPOSITIONAL_OR_KEYWORD\u001b[0m\u001b[0;34m\u001b[0m\u001b[0;34m\u001b[0m\u001b[0m\n",
      "\u001b[0;32m~/opt/anaconda3/lib/python3.7/site-packages/pandas/core/frame.py\u001b[0m in \u001b[0;36mreindex\u001b[0;34m(self, *args, **kwargs)\u001b[0m\n\u001b[1;32m   3854\u001b[0m         \u001b[0mkwargs\u001b[0m\u001b[0;34m.\u001b[0m\u001b[0mpop\u001b[0m\u001b[0;34m(\u001b[0m\u001b[0;34m\"axis\"\u001b[0m\u001b[0;34m,\u001b[0m \u001b[0;32mNone\u001b[0m\u001b[0;34m)\u001b[0m\u001b[0;34m\u001b[0m\u001b[0;34m\u001b[0m\u001b[0m\n\u001b[1;32m   3855\u001b[0m         \u001b[0mkwargs\u001b[0m\u001b[0;34m.\u001b[0m\u001b[0mpop\u001b[0m\u001b[0;34m(\u001b[0m\u001b[0;34m\"labels\"\u001b[0m\u001b[0;34m,\u001b[0m \u001b[0;32mNone\u001b[0m\u001b[0;34m)\u001b[0m\u001b[0;34m\u001b[0m\u001b[0;34m\u001b[0m\u001b[0m\n\u001b[0;32m-> 3856\u001b[0;31m         \u001b[0;32mreturn\u001b[0m \u001b[0msuper\u001b[0m\u001b[0;34m(\u001b[0m\u001b[0;34m)\u001b[0m\u001b[0;34m.\u001b[0m\u001b[0mreindex\u001b[0m\u001b[0;34m(\u001b[0m\u001b[0;34m**\u001b[0m\u001b[0mkwargs\u001b[0m\u001b[0;34m)\u001b[0m\u001b[0;34m\u001b[0m\u001b[0;34m\u001b[0m\u001b[0m\n\u001b[0m\u001b[1;32m   3857\u001b[0m \u001b[0;34m\u001b[0m\u001b[0m\n\u001b[1;32m   3858\u001b[0m     def drop(\n",
      "\u001b[0;32m~/opt/anaconda3/lib/python3.7/site-packages/pandas/core/generic.py\u001b[0m in \u001b[0;36mreindex\u001b[0;34m(self, *args, **kwargs)\u001b[0m\n\u001b[1;32m   4538\u001b[0m         \u001b[0;31m# check if we are a multi reindex\u001b[0m\u001b[0;34m\u001b[0m\u001b[0;34m\u001b[0m\u001b[0;34m\u001b[0m\u001b[0m\n\u001b[1;32m   4539\u001b[0m         \u001b[0;32mif\u001b[0m \u001b[0mself\u001b[0m\u001b[0;34m.\u001b[0m\u001b[0m_needs_reindex_multi\u001b[0m\u001b[0;34m(\u001b[0m\u001b[0maxes\u001b[0m\u001b[0;34m,\u001b[0m \u001b[0mmethod\u001b[0m\u001b[0;34m,\u001b[0m \u001b[0mlevel\u001b[0m\u001b[0;34m)\u001b[0m\u001b[0;34m:\u001b[0m\u001b[0;34m\u001b[0m\u001b[0;34m\u001b[0m\u001b[0m\n\u001b[0;32m-> 4540\u001b[0;31m             \u001b[0;32mreturn\u001b[0m \u001b[0mself\u001b[0m\u001b[0;34m.\u001b[0m\u001b[0m_reindex_multi\u001b[0m\u001b[0;34m(\u001b[0m\u001b[0maxes\u001b[0m\u001b[0;34m,\u001b[0m \u001b[0mcopy\u001b[0m\u001b[0;34m,\u001b[0m \u001b[0mfill_value\u001b[0m\u001b[0;34m)\u001b[0m\u001b[0;34m\u001b[0m\u001b[0;34m\u001b[0m\u001b[0m\n\u001b[0m\u001b[1;32m   4541\u001b[0m \u001b[0;34m\u001b[0m\u001b[0m\n\u001b[1;32m   4542\u001b[0m         \u001b[0;31m# perform the reindex on the axes\u001b[0m\u001b[0;34m\u001b[0m\u001b[0;34m\u001b[0m\u001b[0;34m\u001b[0m\u001b[0m\n",
      "\u001b[0;32m~/opt/anaconda3/lib/python3.7/site-packages/pandas/core/frame.py\u001b[0m in \u001b[0;36m_reindex_multi\u001b[0;34m(self, axes, copy, fill_value)\u001b[0m\n\u001b[1;32m   3805\u001b[0m                 \u001b[0;34m{\u001b[0m\u001b[0;36m0\u001b[0m\u001b[0;34m:\u001b[0m \u001b[0;34m[\u001b[0m\u001b[0mnew_index\u001b[0m\u001b[0;34m,\u001b[0m \u001b[0mrow_indexer\u001b[0m\u001b[0;34m]\u001b[0m\u001b[0;34m,\u001b[0m \u001b[0;36m1\u001b[0m\u001b[0;34m:\u001b[0m \u001b[0;34m[\u001b[0m\u001b[0mnew_columns\u001b[0m\u001b[0;34m,\u001b[0m \u001b[0mcol_indexer\u001b[0m\u001b[0;34m]\u001b[0m\u001b[0;34m}\u001b[0m\u001b[0;34m,\u001b[0m\u001b[0;34m\u001b[0m\u001b[0;34m\u001b[0m\u001b[0m\n\u001b[1;32m   3806\u001b[0m                 \u001b[0mcopy\u001b[0m\u001b[0;34m=\u001b[0m\u001b[0mcopy\u001b[0m\u001b[0;34m,\u001b[0m\u001b[0;34m\u001b[0m\u001b[0;34m\u001b[0m\u001b[0m\n\u001b[0;32m-> 3807\u001b[0;31m                 \u001b[0mfill_value\u001b[0m\u001b[0;34m=\u001b[0m\u001b[0mfill_value\u001b[0m\u001b[0;34m,\u001b[0m\u001b[0;34m\u001b[0m\u001b[0;34m\u001b[0m\u001b[0m\n\u001b[0m\u001b[1;32m   3808\u001b[0m             )\n\u001b[1;32m   3809\u001b[0m \u001b[0;34m\u001b[0m\u001b[0m\n",
      "\u001b[0;32m~/opt/anaconda3/lib/python3.7/site-packages/pandas/core/generic.py\u001b[0m in \u001b[0;36m_reindex_with_indexers\u001b[0;34m(self, reindexers, fill_value, copy, allow_dups)\u001b[0m\n\u001b[1;32m   4611\u001b[0m                 \u001b[0mfill_value\u001b[0m\u001b[0;34m=\u001b[0m\u001b[0mfill_value\u001b[0m\u001b[0;34m,\u001b[0m\u001b[0;34m\u001b[0m\u001b[0;34m\u001b[0m\u001b[0m\n\u001b[1;32m   4612\u001b[0m                 \u001b[0mallow_dups\u001b[0m\u001b[0;34m=\u001b[0m\u001b[0mallow_dups\u001b[0m\u001b[0;34m,\u001b[0m\u001b[0;34m\u001b[0m\u001b[0;34m\u001b[0m\u001b[0m\n\u001b[0;32m-> 4613\u001b[0;31m                 \u001b[0mcopy\u001b[0m\u001b[0;34m=\u001b[0m\u001b[0mcopy\u001b[0m\u001b[0;34m,\u001b[0m\u001b[0;34m\u001b[0m\u001b[0;34m\u001b[0m\u001b[0m\n\u001b[0m\u001b[1;32m   4614\u001b[0m             )\n\u001b[1;32m   4615\u001b[0m \u001b[0;34m\u001b[0m\u001b[0m\n",
      "\u001b[0;32m~/opt/anaconda3/lib/python3.7/site-packages/pandas/core/internals/managers.py\u001b[0m in \u001b[0;36mreindex_indexer\u001b[0;34m(self, new_axis, indexer, axis, fill_value, allow_dups, copy)\u001b[0m\n\u001b[1;32m   1249\u001b[0m         \u001b[0;31m# some axes don't allow reindexing with dups\u001b[0m\u001b[0;34m\u001b[0m\u001b[0;34m\u001b[0m\u001b[0;34m\u001b[0m\u001b[0m\n\u001b[1;32m   1250\u001b[0m         \u001b[0;32mif\u001b[0m \u001b[0;32mnot\u001b[0m \u001b[0mallow_dups\u001b[0m\u001b[0;34m:\u001b[0m\u001b[0;34m\u001b[0m\u001b[0;34m\u001b[0m\u001b[0m\n\u001b[0;32m-> 1251\u001b[0;31m             \u001b[0mself\u001b[0m\u001b[0;34m.\u001b[0m\u001b[0maxes\u001b[0m\u001b[0;34m[\u001b[0m\u001b[0maxis\u001b[0m\u001b[0;34m]\u001b[0m\u001b[0;34m.\u001b[0m\u001b[0m_can_reindex\u001b[0m\u001b[0;34m(\u001b[0m\u001b[0mindexer\u001b[0m\u001b[0;34m)\u001b[0m\u001b[0;34m\u001b[0m\u001b[0;34m\u001b[0m\u001b[0m\n\u001b[0m\u001b[1;32m   1252\u001b[0m \u001b[0;34m\u001b[0m\u001b[0m\n\u001b[1;32m   1253\u001b[0m         \u001b[0;32mif\u001b[0m \u001b[0maxis\u001b[0m \u001b[0;34m>=\u001b[0m \u001b[0mself\u001b[0m\u001b[0;34m.\u001b[0m\u001b[0mndim\u001b[0m\u001b[0;34m:\u001b[0m\u001b[0;34m\u001b[0m\u001b[0;34m\u001b[0m\u001b[0m\n",
      "\u001b[0;32m~/opt/anaconda3/lib/python3.7/site-packages/pandas/core/indexes/base.py\u001b[0m in \u001b[0;36m_can_reindex\u001b[0;34m(self, indexer)\u001b[0m\n\u001b[1;32m   3097\u001b[0m         \u001b[0;31m# trying to reindex on an axis with duplicates\u001b[0m\u001b[0;34m\u001b[0m\u001b[0;34m\u001b[0m\u001b[0;34m\u001b[0m\u001b[0m\n\u001b[1;32m   3098\u001b[0m         \u001b[0;32mif\u001b[0m \u001b[0;32mnot\u001b[0m \u001b[0mself\u001b[0m\u001b[0;34m.\u001b[0m\u001b[0mis_unique\u001b[0m \u001b[0;32mand\u001b[0m \u001b[0mlen\u001b[0m\u001b[0;34m(\u001b[0m\u001b[0mindexer\u001b[0m\u001b[0;34m)\u001b[0m\u001b[0;34m:\u001b[0m\u001b[0;34m\u001b[0m\u001b[0;34m\u001b[0m\u001b[0m\n\u001b[0;32m-> 3099\u001b[0;31m             \u001b[0;32mraise\u001b[0m \u001b[0mValueError\u001b[0m\u001b[0;34m(\u001b[0m\u001b[0;34m\"cannot reindex from a duplicate axis\"\u001b[0m\u001b[0;34m)\u001b[0m\u001b[0;34m\u001b[0m\u001b[0;34m\u001b[0m\u001b[0m\n\u001b[0m\u001b[1;32m   3100\u001b[0m \u001b[0;34m\u001b[0m\u001b[0m\n\u001b[1;32m   3101\u001b[0m     \u001b[0;32mdef\u001b[0m \u001b[0mreindex\u001b[0m\u001b[0;34m(\u001b[0m\u001b[0mself\u001b[0m\u001b[0;34m,\u001b[0m \u001b[0mtarget\u001b[0m\u001b[0;34m,\u001b[0m \u001b[0mmethod\u001b[0m\u001b[0;34m=\u001b[0m\u001b[0;32mNone\u001b[0m\u001b[0;34m,\u001b[0m \u001b[0mlevel\u001b[0m\u001b[0;34m=\u001b[0m\u001b[0;32mNone\u001b[0m\u001b[0;34m,\u001b[0m \u001b[0mlimit\u001b[0m\u001b[0;34m=\u001b[0m\u001b[0;32mNone\u001b[0m\u001b[0;34m,\u001b[0m \u001b[0mtolerance\u001b[0m\u001b[0;34m=\u001b[0m\u001b[0;32mNone\u001b[0m\u001b[0;34m)\u001b[0m\u001b[0;34m:\u001b[0m\u001b[0;34m\u001b[0m\u001b[0;34m\u001b[0m\u001b[0m\n",
      "\u001b[0;31mValueError\u001b[0m: cannot reindex from a duplicate axis"
     ]
    }
   ],
   "source": [
    "for i in range(len(hierarchy)-1):\n",
    "    cancerset[hierarchy[i+1]] += cancerset[hierarchy[i]]"
   ]
  },
  {
   "cell_type": "code",
   "execution_count": 41,
   "metadata": {},
   "outputs": [],
   "source": [
    "def N1(row):\n",
    "    if row['N'] == 'N1':\n",
    "        return 1\n",
    "    if row['N'] == 'N2' :\n",
    "        return 1 \n",
    "    if row['N'] == 'N3' :\n",
    "        return 1    \n",
    "    else:\n",
    "        return 0\n",
    "\n",
    "def N2(row):\n",
    "    if row['N'] == 'N2' :\n",
    "        return 1 \n",
    "    if row['N'] == 'N3' :\n",
    "        return 1    \n",
    "    else:\n",
    "        return 0\n",
    "\n",
    "def N3(row):\n",
    "    if row['N'] == 'N3' :\n",
    "        return 1    \n",
    "    else:\n",
    "        return 0\n",
    "    \n",
    "def NX(row):\n",
    "    if row['N'] == 'NX' :\n",
    "        return 1    \n",
    "    else:\n",
    "        return 0"
   ]
  },
  {
   "cell_type": "code",
   "execution_count": 42,
   "metadata": {},
   "outputs": [],
   "source": [
    "cancerset['N1'] = cancerset.apply (lambda row: N1(row), axis =1)\n",
    "cancerset['N2'] = cancerset.apply (lambda row: N2(row), axis =1)\n",
    "cancerset['N3'] = cancerset.apply (lambda row: N3(row), axis =1)\n",
    "cancerset['NX'] = cancerset.apply (lambda row: NX(row), axis =1)"
   ]
  },
  {
   "cell_type": "code",
   "execution_count": 43,
   "metadata": {},
   "outputs": [
    {
     "data": {
      "text/plain": [
       "0    1042393\n",
       "1     352057\n",
       "Name: N1, dtype: int64"
      ]
     },
     "execution_count": 43,
     "metadata": {},
     "output_type": "execute_result"
    }
   ],
   "source": [
    "cancerset['N1'].value_counts()"
   ]
  },
  {
   "cell_type": "markdown",
   "metadata": {},
   "source": [
    "#### Metastatis\n",
    "M represents metastatic spread (dichotomous)\n",
    "- MX denotes a nonmeasurement, blanks will be included under this term.\n",
    "- M0 denotes hasnt spread\n",
    "- M1 has spread"
   ]
  },
  {
   "cell_type": "code",
   "execution_count": 45,
   "metadata": {},
   "outputs": [],
   "source": [
    "def m_cat(cancerset):\n",
    "    cancerset.loc[(cancerset['M'] == 'Blank(s)'), 'M']= 'MX'\n",
    "    cancerset = pd.get_dummies(cancerset, columns=['M'], drop_first=True)\n",
    "    return cancerset"
   ]
  },
  {
   "cell_type": "code",
   "execution_count": 46,
   "metadata": {},
   "outputs": [],
   "source": [
    "cancerset = m_cat(cancerset)"
   ]
  },
  {
   "cell_type": "markdown",
   "metadata": {},
   "source": [
    "#### Tumors\n",
    "T: a combination of tumor size (continuous) & invasion of nearby organs (categorical)\n",
    "**T0** -> Tis -> T1NOS -> **T1mic** -> T1a -> **T1b** -> **T1c** -> **T2** -> **T3** -> T4NOS -> **T4a** -> **T4b** -> **T4c **-> **T4d** ->"
   ]
  },
  {
   "cell_type": "code",
   "execution_count": 47,
   "metadata": {},
   "outputs": [
    {
     "data": {
      "text/plain": [
       "T1c            372861\n",
       "T2             295884\n",
       "Blank(s)       211130\n",
       "T1b            186726\n",
       "TX Adjusted     94555\n",
       "T1a             67371\n",
       "Any T, Mets     56077\n",
       "T3              50060\n",
       "T1mic           20988\n",
       "T4b             16522\n",
       "T4d             12597\n",
       "T4a              4078\n",
       "Tis              1786\n",
       "T0               1133\n",
       "T4c               924\n",
       "Name: T, dtype: int64"
      ]
     },
     "execution_count": 47,
     "metadata": {},
     "output_type": "execute_result"
    }
   ],
   "source": [
    "cancerset['T'].value_counts()"
   ]
  },
  {
   "cell_type": "markdown",
   "metadata": {},
   "source": [
    "#### To Interpolate"
   ]
  },
  {
   "cell_type": "code",
   "execution_count": null,
   "metadata": {},
   "outputs": [],
   "source": [
    "cancerset['Grade'].value_counts()"
   ]
  },
  {
   "cell_type": "markdown",
   "metadata": {},
   "source": [
    "### Exporting to .csv"
   ]
  },
  {
   "cell_type": "code",
   "execution_count": 51,
   "metadata": {},
   "outputs": [
    {
     "data": {
      "text/html": [
       "<div>\n",
       "<style scoped>\n",
       "    .dataframe tbody tr th:only-of-type {\n",
       "        vertical-align: middle;\n",
       "    }\n",
       "\n",
       "    .dataframe tbody tr th {\n",
       "        vertical-align: top;\n",
       "    }\n",
       "\n",
       "    .dataframe thead th {\n",
       "        text-align: right;\n",
       "    }\n",
       "</style>\n",
       "<table border=\"1\" class=\"dataframe\">\n",
       "  <thead>\n",
       "    <tr style=\"text-align: right;\">\n",
       "      <th></th>\n",
       "      <th>DX_Death</th>\n",
       "      <th>N_Tumors</th>\n",
       "      <th>MO_Survival</th>\n",
       "      <th>DX_Year</th>\n",
       "      <th>AGE_Code</th>\n",
       "      <th>Female</th>\n",
       "      <th>ID_Patient</th>\n",
       "      <th>Race</th>\n",
       "      <th>Grade</th>\n",
       "      <th>Histology</th>\n",
       "      <th>...</th>\n",
       "      <th>S3B</th>\n",
       "      <th>S3C</th>\n",
       "      <th>S3N</th>\n",
       "      <th>S0</th>\n",
       "      <th>N1</th>\n",
       "      <th>N2</th>\n",
       "      <th>N3</th>\n",
       "      <th>NX</th>\n",
       "      <th>M_M1</th>\n",
       "      <th>M_MX</th>\n",
       "    </tr>\n",
       "  </thead>\n",
       "  <tbody>\n",
       "    <tr>\n",
       "      <th>0</th>\n",
       "      <td>1</td>\n",
       "      <td>1</td>\n",
       "      <td>162</td>\n",
       "      <td>1975</td>\n",
       "      <td>60</td>\n",
       "      <td>1</td>\n",
       "      <td>13</td>\n",
       "      <td>White</td>\n",
       "      <td>Unknown</td>\n",
       "      <td>8500</td>\n",
       "      <td>...</td>\n",
       "      <td>0</td>\n",
       "      <td>0</td>\n",
       "      <td>0</td>\n",
       "      <td>0</td>\n",
       "      <td>0</td>\n",
       "      <td>0</td>\n",
       "      <td>0</td>\n",
       "      <td>1</td>\n",
       "      <td>0</td>\n",
       "      <td>1</td>\n",
       "    </tr>\n",
       "    <tr>\n",
       "      <th>1</th>\n",
       "      <td>0</td>\n",
       "      <td>1</td>\n",
       "      <td>28</td>\n",
       "      <td>1988</td>\n",
       "      <td>80</td>\n",
       "      <td>1</td>\n",
       "      <td>27</td>\n",
       "      <td>White</td>\n",
       "      <td>Unknown</td>\n",
       "      <td>8500</td>\n",
       "      <td>...</td>\n",
       "      <td>0</td>\n",
       "      <td>0</td>\n",
       "      <td>0</td>\n",
       "      <td>0</td>\n",
       "      <td>0</td>\n",
       "      <td>0</td>\n",
       "      <td>0</td>\n",
       "      <td>1</td>\n",
       "      <td>0</td>\n",
       "      <td>0</td>\n",
       "    </tr>\n",
       "    <tr>\n",
       "      <th>2</th>\n",
       "      <td>0</td>\n",
       "      <td>1</td>\n",
       "      <td>84</td>\n",
       "      <td>1985</td>\n",
       "      <td>60</td>\n",
       "      <td>1</td>\n",
       "      <td>30</td>\n",
       "      <td>White</td>\n",
       "      <td>Unknown</td>\n",
       "      <td>8520</td>\n",
       "      <td>...</td>\n",
       "      <td>0</td>\n",
       "      <td>0</td>\n",
       "      <td>0</td>\n",
       "      <td>0</td>\n",
       "      <td>0</td>\n",
       "      <td>0</td>\n",
       "      <td>0</td>\n",
       "      <td>1</td>\n",
       "      <td>0</td>\n",
       "      <td>1</td>\n",
       "    </tr>\n",
       "    <tr>\n",
       "      <th>3</th>\n",
       "      <td>0</td>\n",
       "      <td>3</td>\n",
       "      <td>14</td>\n",
       "      <td>2003</td>\n",
       "      <td>75</td>\n",
       "      <td>1</td>\n",
       "      <td>67</td>\n",
       "      <td>White</td>\n",
       "      <td>Moderately differentiated; Grade II</td>\n",
       "      <td>8520</td>\n",
       "      <td>...</td>\n",
       "      <td>0</td>\n",
       "      <td>0</td>\n",
       "      <td>0</td>\n",
       "      <td>0</td>\n",
       "      <td>0</td>\n",
       "      <td>0</td>\n",
       "      <td>0</td>\n",
       "      <td>1</td>\n",
       "      <td>0</td>\n",
       "      <td>0</td>\n",
       "    </tr>\n",
       "    <tr>\n",
       "      <th>4</th>\n",
       "      <td>0</td>\n",
       "      <td>1</td>\n",
       "      <td>192</td>\n",
       "      <td>1977</td>\n",
       "      <td>50</td>\n",
       "      <td>1</td>\n",
       "      <td>75</td>\n",
       "      <td>White</td>\n",
       "      <td>Unknown</td>\n",
       "      <td>8500</td>\n",
       "      <td>...</td>\n",
       "      <td>0</td>\n",
       "      <td>0</td>\n",
       "      <td>0</td>\n",
       "      <td>0</td>\n",
       "      <td>0</td>\n",
       "      <td>0</td>\n",
       "      <td>0</td>\n",
       "      <td>1</td>\n",
       "      <td>0</td>\n",
       "      <td>1</td>\n",
       "    </tr>\n",
       "    <tr>\n",
       "      <th>...</th>\n",
       "      <td>...</td>\n",
       "      <td>...</td>\n",
       "      <td>...</td>\n",
       "      <td>...</td>\n",
       "      <td>...</td>\n",
       "      <td>...</td>\n",
       "      <td>...</td>\n",
       "      <td>...</td>\n",
       "      <td>...</td>\n",
       "      <td>...</td>\n",
       "      <td>...</td>\n",
       "      <td>...</td>\n",
       "      <td>...</td>\n",
       "      <td>...</td>\n",
       "      <td>...</td>\n",
       "      <td>...</td>\n",
       "      <td>...</td>\n",
       "      <td>...</td>\n",
       "      <td>...</td>\n",
       "      <td>...</td>\n",
       "      <td>...</td>\n",
       "    </tr>\n",
       "    <tr>\n",
       "      <th>1402936</th>\n",
       "      <td>0</td>\n",
       "      <td>1</td>\n",
       "      <td>6</td>\n",
       "      <td>2016</td>\n",
       "      <td>70</td>\n",
       "      <td>1</td>\n",
       "      <td>77802872</td>\n",
       "      <td>White</td>\n",
       "      <td>Well differentiated; Grade I</td>\n",
       "      <td>8500</td>\n",
       "      <td>...</td>\n",
       "      <td>0</td>\n",
       "      <td>0</td>\n",
       "      <td>0</td>\n",
       "      <td>0</td>\n",
       "      <td>0</td>\n",
       "      <td>0</td>\n",
       "      <td>0</td>\n",
       "      <td>1</td>\n",
       "      <td>0</td>\n",
       "      <td>1</td>\n",
       "    </tr>\n",
       "    <tr>\n",
       "      <th>1402937</th>\n",
       "      <td>0</td>\n",
       "      <td>2</td>\n",
       "      <td>5</td>\n",
       "      <td>2016</td>\n",
       "      <td>65</td>\n",
       "      <td>1</td>\n",
       "      <td>77802921</td>\n",
       "      <td>Black</td>\n",
       "      <td>Well differentiated; Grade I</td>\n",
       "      <td>8520</td>\n",
       "      <td>...</td>\n",
       "      <td>0</td>\n",
       "      <td>0</td>\n",
       "      <td>0</td>\n",
       "      <td>0</td>\n",
       "      <td>0</td>\n",
       "      <td>0</td>\n",
       "      <td>0</td>\n",
       "      <td>1</td>\n",
       "      <td>0</td>\n",
       "      <td>1</td>\n",
       "    </tr>\n",
       "    <tr>\n",
       "      <th>1402955</th>\n",
       "      <td>0</td>\n",
       "      <td>1</td>\n",
       "      <td>0</td>\n",
       "      <td>2016</td>\n",
       "      <td>80</td>\n",
       "      <td>1</td>\n",
       "      <td>77803868</td>\n",
       "      <td>Other</td>\n",
       "      <td>Well differentiated; Grade I</td>\n",
       "      <td>8500</td>\n",
       "      <td>...</td>\n",
       "      <td>0</td>\n",
       "      <td>0</td>\n",
       "      <td>0</td>\n",
       "      <td>0</td>\n",
       "      <td>0</td>\n",
       "      <td>0</td>\n",
       "      <td>0</td>\n",
       "      <td>1</td>\n",
       "      <td>0</td>\n",
       "      <td>1</td>\n",
       "    </tr>\n",
       "    <tr>\n",
       "      <th>1402957</th>\n",
       "      <td>0</td>\n",
       "      <td>1</td>\n",
       "      <td>29</td>\n",
       "      <td>2014</td>\n",
       "      <td>60</td>\n",
       "      <td>1</td>\n",
       "      <td>77804049</td>\n",
       "      <td>White</td>\n",
       "      <td>Moderately differentiated; Grade II</td>\n",
       "      <td>8500</td>\n",
       "      <td>...</td>\n",
       "      <td>0</td>\n",
       "      <td>0</td>\n",
       "      <td>0</td>\n",
       "      <td>0</td>\n",
       "      <td>0</td>\n",
       "      <td>0</td>\n",
       "      <td>0</td>\n",
       "      <td>0</td>\n",
       "      <td>0</td>\n",
       "      <td>0</td>\n",
       "    </tr>\n",
       "    <tr>\n",
       "      <th>1402958</th>\n",
       "      <td>0</td>\n",
       "      <td>1</td>\n",
       "      <td>0</td>\n",
       "      <td>2016</td>\n",
       "      <td>55</td>\n",
       "      <td>1</td>\n",
       "      <td>77804110</td>\n",
       "      <td>White</td>\n",
       "      <td>Moderately differentiated; Grade II</td>\n",
       "      <td>8522</td>\n",
       "      <td>...</td>\n",
       "      <td>0</td>\n",
       "      <td>0</td>\n",
       "      <td>0</td>\n",
       "      <td>0</td>\n",
       "      <td>0</td>\n",
       "      <td>0</td>\n",
       "      <td>0</td>\n",
       "      <td>1</td>\n",
       "      <td>0</td>\n",
       "      <td>1</td>\n",
       "    </tr>\n",
       "  </tbody>\n",
       "</table>\n",
       "<p>1387339 rows × 29 columns</p>\n",
       "</div>"
      ],
      "text/plain": [
       "         DX_Death  N_Tumors  MO_Survival  DX_Year  AGE_Code  Female  \\\n",
       "0               1         1          162     1975        60       1   \n",
       "1               0         1           28     1988        80       1   \n",
       "2               0         1           84     1985        60       1   \n",
       "3               0         3           14     2003        75       1   \n",
       "4               0         1          192     1977        50       1   \n",
       "...           ...       ...          ...      ...       ...     ...   \n",
       "1402936         0         1            6     2016        70       1   \n",
       "1402937         0         2            5     2016        65       1   \n",
       "1402955         0         1            0     2016        80       1   \n",
       "1402957         0         1           29     2014        60       1   \n",
       "1402958         0         1            0     2016        55       1   \n",
       "\n",
       "         ID_Patient   Race                                Grade  Histology  \\\n",
       "0                13  White                              Unknown       8500   \n",
       "1                27  White                              Unknown       8500   \n",
       "2                30  White                              Unknown       8520   \n",
       "3                67  White  Moderately differentiated; Grade II       8520   \n",
       "4                75  White                              Unknown       8500   \n",
       "...             ...    ...                                  ...        ...   \n",
       "1402936    77802872  White         Well differentiated; Grade I       8500   \n",
       "1402937    77802921  Black         Well differentiated; Grade I       8520   \n",
       "1402955    77803868  Other         Well differentiated; Grade I       8500   \n",
       "1402957    77804049  White  Moderately differentiated; Grade II       8500   \n",
       "1402958    77804110  White  Moderately differentiated; Grade II       8522   \n",
       "\n",
       "         ... S3B S3C S3N S0 N1  N2  N3  NX  M_M1  M_MX  \n",
       "0        ...   0   0   0  0  0   0   0   1     0     1  \n",
       "1        ...   0   0   0  0  0   0   0   1     0     0  \n",
       "2        ...   0   0   0  0  0   0   0   1     0     1  \n",
       "3        ...   0   0   0  0  0   0   0   1     0     0  \n",
       "4        ...   0   0   0  0  0   0   0   1     0     1  \n",
       "...      ...  ..  ..  .. .. ..  ..  ..  ..   ...   ...  \n",
       "1402936  ...   0   0   0  0  0   0   0   1     0     1  \n",
       "1402937  ...   0   0   0  0  0   0   0   1     0     1  \n",
       "1402955  ...   0   0   0  0  0   0   0   1     0     1  \n",
       "1402957  ...   0   0   0  0  0   0   0   0     0     0  \n",
       "1402958  ...   0   0   0  0  0   0   0   1     0     1  \n",
       "\n",
       "[1387339 rows x 29 columns]"
      ]
     },
     "execution_count": 51,
     "metadata": {},
     "output_type": "execute_result"
    }
   ],
   "source": [
    "cancerset"
   ]
  },
  {
   "cell_type": "code",
   "execution_count": 52,
   "metadata": {},
   "outputs": [],
   "source": [
    "cancerset.to_csv('75edits.csv')"
   ]
  },
  {
   "cell_type": "code",
   "execution_count": 55,
   "metadata": {},
   "outputs": [
    {
     "data": {
      "text/plain": [
       "Index(['DX_Death', 'N_Tumors', 'MO_Survival', 'DX_Year', 'AGE_Code', 'Female',\n",
       "       'ID_Patient', 'Race', 'Grade', 'Histology', 'Surgery', 'Nodes_Pos',\n",
       "       'Stage', 'T', 'N', 'S1', 'S2A', 'S2B', 'S3A', 'S3B', 'S3C', 'S3N', 'S0',\n",
       "       'N1', 'N2', 'N3', 'NX', 'M_M1', 'M_MX'],\n",
       "      dtype='object')"
      ]
     },
     "execution_count": 55,
     "metadata": {},
     "output_type": "execute_result"
    }
   ],
   "source": [
    "cancerset.columns"
   ]
  },
  {
   "cell_type": "markdown",
   "metadata": {},
   "source": [
    "#### Notes"
   ]
  },
  {
   "cell_type": "markdown",
   "metadata": {},
   "source": [
    "### Missing Values\n",
    "- Missing values are currently set as 'Blank(s)', 'Unknown' or 'UNK Stage'\n",
    "    - These will be set to np.NaN\n",
    "    \n",
    "- Columns with a significant number of Missing Values\n",
    "- Columns with a less significant number of Missing Values\n",
    "    - Survival months Unknown values 7053\n",
    "    \n",
    "- Dummy Variable NaN values\n",
    "    - Race NaN"
   ]
  }
 ],
 "metadata": {
  "kernelspec": {
   "display_name": "Python 3",
   "language": "python",
   "name": "python3"
  },
  "language_info": {
   "codemirror_mode": {
    "name": "ipython",
    "version": 3
   },
   "file_extension": ".py",
   "mimetype": "text/x-python",
   "name": "python",
   "nbconvert_exporter": "python",
   "pygments_lexer": "ipython3",
   "version": "3.7.7"
  }
 },
 "nbformat": 4,
 "nbformat_minor": 4
}
